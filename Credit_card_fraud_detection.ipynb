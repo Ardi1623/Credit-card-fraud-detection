{
  "nbformat": 4,
  "nbformat_minor": 0,
  "metadata": {
    "colab": {
      "provenance": []
    },
    "kernelspec": {
      "name": "python3",
      "display_name": "Python 3"
    },
    "language_info": {
      "name": "python"
    }
  },
  "cells": [
    {
      "cell_type": "markdown",
      "source": [
        "🎯 Objective\n",
        "To develop a machine learning model for detecting fraudulent credit card transactions, with the main challenge being the imbalanced dataset (only a small fraction of the data is fraudulent).\n",
        "\n",
        "Challenges:\n",
        "\n",
        "* Extreme class imbalance (ratio of approximately 1:577).\n",
        "* Features that have been transformed, making direct interpretation difficult.\n",
        "* Anomaly detection in transaction data."
      ],
      "metadata": {
        "id": "lecce3g0hetv"
      }
    },
    {
      "cell_type": "markdown",
      "source": [
        "# 1. Preparation"
      ],
      "metadata": {
        "id": "FiXJusvahluA"
      }
    },
    {
      "cell_type": "code",
      "execution_count": 2,
      "metadata": {
        "colab": {
          "base_uri": "https://localhost:8080/",
          "height": 359
        },
        "id": "hmMH_edpfOq8",
        "outputId": "577058d7-6db5-42ee-8d3e-f3e006aae89b"
      },
      "outputs": [
        {
          "output_type": "stream",
          "name": "stderr",
          "text": [
            "Downloading...\n",
            "From (original): https://drive.google.com/uc?id=1Pt6WSwXGgwTF93vd5SUZBJS2veI_KYaC\n",
            "From (redirected): https://drive.google.com/uc?id=1Pt6WSwXGgwTF93vd5SUZBJS2veI_KYaC&confirm=t&uuid=d0e2d13d-6b15-409c-8808-8e78e1031f15\n",
            "To: /content/creditcard.csv\n",
            "100%|██████████| 151M/151M [00:02<00:00, 71.2MB/s]\n"
          ]
        },
        {
          "output_type": "stream",
          "name": "stdout",
          "text": [
            "Dataset size: (284807, 31)\n"
          ]
        },
        {
          "output_type": "execute_result",
          "data": {
            "text/plain": [
              "   Time        V1        V2        V3        V4        V5        V6        V7  \\\n",
              "0   0.0 -1.359807 -0.072781  2.536347  1.378155 -0.338321  0.462388  0.239599   \n",
              "1   0.0  1.191857  0.266151  0.166480  0.448154  0.060018 -0.082361 -0.078803   \n",
              "2   1.0 -1.358354 -1.340163  1.773209  0.379780 -0.503198  1.800499  0.791461   \n",
              "3   1.0 -0.966272 -0.185226  1.792993 -0.863291 -0.010309  1.247203  0.237609   \n",
              "4   2.0 -1.158233  0.877737  1.548718  0.403034 -0.407193  0.095921  0.592941   \n",
              "\n",
              "         V8        V9  ...       V21       V22       V23       V24       V25  \\\n",
              "0  0.098698  0.363787  ... -0.018307  0.277838 -0.110474  0.066928  0.128539   \n",
              "1  0.085102 -0.255425  ... -0.225775 -0.638672  0.101288 -0.339846  0.167170   \n",
              "2  0.247676 -1.514654  ...  0.247998  0.771679  0.909412 -0.689281 -0.327642   \n",
              "3  0.377436 -1.387024  ... -0.108300  0.005274 -0.190321 -1.175575  0.647376   \n",
              "4 -0.270533  0.817739  ... -0.009431  0.798278 -0.137458  0.141267 -0.206010   \n",
              "\n",
              "        V26       V27       V28  Amount  Class  \n",
              "0 -0.189115  0.133558 -0.021053  149.62      0  \n",
              "1  0.125895 -0.008983  0.014724    2.69      0  \n",
              "2 -0.139097 -0.055353 -0.059752  378.66      0  \n",
              "3 -0.221929  0.062723  0.061458  123.50      0  \n",
              "4  0.502292  0.219422  0.215153   69.99      0  \n",
              "\n",
              "[5 rows x 31 columns]"
            ],
            "text/html": [
              "\n",
              "  <div id=\"df-1f65301b-4f37-4f97-be9d-6f6f63921303\" class=\"colab-df-container\">\n",
              "    <div>\n",
              "<style scoped>\n",
              "    .dataframe tbody tr th:only-of-type {\n",
              "        vertical-align: middle;\n",
              "    }\n",
              "\n",
              "    .dataframe tbody tr th {\n",
              "        vertical-align: top;\n",
              "    }\n",
              "\n",
              "    .dataframe thead th {\n",
              "        text-align: right;\n",
              "    }\n",
              "</style>\n",
              "<table border=\"1\" class=\"dataframe\">\n",
              "  <thead>\n",
              "    <tr style=\"text-align: right;\">\n",
              "      <th></th>\n",
              "      <th>Time</th>\n",
              "      <th>V1</th>\n",
              "      <th>V2</th>\n",
              "      <th>V3</th>\n",
              "      <th>V4</th>\n",
              "      <th>V5</th>\n",
              "      <th>V6</th>\n",
              "      <th>V7</th>\n",
              "      <th>V8</th>\n",
              "      <th>V9</th>\n",
              "      <th>...</th>\n",
              "      <th>V21</th>\n",
              "      <th>V22</th>\n",
              "      <th>V23</th>\n",
              "      <th>V24</th>\n",
              "      <th>V25</th>\n",
              "      <th>V26</th>\n",
              "      <th>V27</th>\n",
              "      <th>V28</th>\n",
              "      <th>Amount</th>\n",
              "      <th>Class</th>\n",
              "    </tr>\n",
              "  </thead>\n",
              "  <tbody>\n",
              "    <tr>\n",
              "      <th>0</th>\n",
              "      <td>0.0</td>\n",
              "      <td>-1.359807</td>\n",
              "      <td>-0.072781</td>\n",
              "      <td>2.536347</td>\n",
              "      <td>1.378155</td>\n",
              "      <td>-0.338321</td>\n",
              "      <td>0.462388</td>\n",
              "      <td>0.239599</td>\n",
              "      <td>0.098698</td>\n",
              "      <td>0.363787</td>\n",
              "      <td>...</td>\n",
              "      <td>-0.018307</td>\n",
              "      <td>0.277838</td>\n",
              "      <td>-0.110474</td>\n",
              "      <td>0.066928</td>\n",
              "      <td>0.128539</td>\n",
              "      <td>-0.189115</td>\n",
              "      <td>0.133558</td>\n",
              "      <td>-0.021053</td>\n",
              "      <td>149.62</td>\n",
              "      <td>0</td>\n",
              "    </tr>\n",
              "    <tr>\n",
              "      <th>1</th>\n",
              "      <td>0.0</td>\n",
              "      <td>1.191857</td>\n",
              "      <td>0.266151</td>\n",
              "      <td>0.166480</td>\n",
              "      <td>0.448154</td>\n",
              "      <td>0.060018</td>\n",
              "      <td>-0.082361</td>\n",
              "      <td>-0.078803</td>\n",
              "      <td>0.085102</td>\n",
              "      <td>-0.255425</td>\n",
              "      <td>...</td>\n",
              "      <td>-0.225775</td>\n",
              "      <td>-0.638672</td>\n",
              "      <td>0.101288</td>\n",
              "      <td>-0.339846</td>\n",
              "      <td>0.167170</td>\n",
              "      <td>0.125895</td>\n",
              "      <td>-0.008983</td>\n",
              "      <td>0.014724</td>\n",
              "      <td>2.69</td>\n",
              "      <td>0</td>\n",
              "    </tr>\n",
              "    <tr>\n",
              "      <th>2</th>\n",
              "      <td>1.0</td>\n",
              "      <td>-1.358354</td>\n",
              "      <td>-1.340163</td>\n",
              "      <td>1.773209</td>\n",
              "      <td>0.379780</td>\n",
              "      <td>-0.503198</td>\n",
              "      <td>1.800499</td>\n",
              "      <td>0.791461</td>\n",
              "      <td>0.247676</td>\n",
              "      <td>-1.514654</td>\n",
              "      <td>...</td>\n",
              "      <td>0.247998</td>\n",
              "      <td>0.771679</td>\n",
              "      <td>0.909412</td>\n",
              "      <td>-0.689281</td>\n",
              "      <td>-0.327642</td>\n",
              "      <td>-0.139097</td>\n",
              "      <td>-0.055353</td>\n",
              "      <td>-0.059752</td>\n",
              "      <td>378.66</td>\n",
              "      <td>0</td>\n",
              "    </tr>\n",
              "    <tr>\n",
              "      <th>3</th>\n",
              "      <td>1.0</td>\n",
              "      <td>-0.966272</td>\n",
              "      <td>-0.185226</td>\n",
              "      <td>1.792993</td>\n",
              "      <td>-0.863291</td>\n",
              "      <td>-0.010309</td>\n",
              "      <td>1.247203</td>\n",
              "      <td>0.237609</td>\n",
              "      <td>0.377436</td>\n",
              "      <td>-1.387024</td>\n",
              "      <td>...</td>\n",
              "      <td>-0.108300</td>\n",
              "      <td>0.005274</td>\n",
              "      <td>-0.190321</td>\n",
              "      <td>-1.175575</td>\n",
              "      <td>0.647376</td>\n",
              "      <td>-0.221929</td>\n",
              "      <td>0.062723</td>\n",
              "      <td>0.061458</td>\n",
              "      <td>123.50</td>\n",
              "      <td>0</td>\n",
              "    </tr>\n",
              "    <tr>\n",
              "      <th>4</th>\n",
              "      <td>2.0</td>\n",
              "      <td>-1.158233</td>\n",
              "      <td>0.877737</td>\n",
              "      <td>1.548718</td>\n",
              "      <td>0.403034</td>\n",
              "      <td>-0.407193</td>\n",
              "      <td>0.095921</td>\n",
              "      <td>0.592941</td>\n",
              "      <td>-0.270533</td>\n",
              "      <td>0.817739</td>\n",
              "      <td>...</td>\n",
              "      <td>-0.009431</td>\n",
              "      <td>0.798278</td>\n",
              "      <td>-0.137458</td>\n",
              "      <td>0.141267</td>\n",
              "      <td>-0.206010</td>\n",
              "      <td>0.502292</td>\n",
              "      <td>0.219422</td>\n",
              "      <td>0.215153</td>\n",
              "      <td>69.99</td>\n",
              "      <td>0</td>\n",
              "    </tr>\n",
              "  </tbody>\n",
              "</table>\n",
              "<p>5 rows × 31 columns</p>\n",
              "</div>\n",
              "    <div class=\"colab-df-buttons\">\n",
              "\n",
              "  <div class=\"colab-df-container\">\n",
              "    <button class=\"colab-df-convert\" onclick=\"convertToInteractive('df-1f65301b-4f37-4f97-be9d-6f6f63921303')\"\n",
              "            title=\"Convert this dataframe to an interactive table.\"\n",
              "            style=\"display:none;\">\n",
              "\n",
              "  <svg xmlns=\"http://www.w3.org/2000/svg\" height=\"24px\" viewBox=\"0 -960 960 960\">\n",
              "    <path d=\"M120-120v-720h720v720H120Zm60-500h600v-160H180v160Zm220 220h160v-160H400v160Zm0 220h160v-160H400v160ZM180-400h160v-160H180v160Zm440 0h160v-160H620v160ZM180-180h160v-160H180v160Zm440 0h160v-160H620v160Z\"/>\n",
              "  </svg>\n",
              "    </button>\n",
              "\n",
              "  <style>\n",
              "    .colab-df-container {\n",
              "      display:flex;\n",
              "      gap: 12px;\n",
              "    }\n",
              "\n",
              "    .colab-df-convert {\n",
              "      background-color: #E8F0FE;\n",
              "      border: none;\n",
              "      border-radius: 50%;\n",
              "      cursor: pointer;\n",
              "      display: none;\n",
              "      fill: #1967D2;\n",
              "      height: 32px;\n",
              "      padding: 0 0 0 0;\n",
              "      width: 32px;\n",
              "    }\n",
              "\n",
              "    .colab-df-convert:hover {\n",
              "      background-color: #E2EBFA;\n",
              "      box-shadow: 0px 1px 2px rgba(60, 64, 67, 0.3), 0px 1px 3px 1px rgba(60, 64, 67, 0.15);\n",
              "      fill: #174EA6;\n",
              "    }\n",
              "\n",
              "    .colab-df-buttons div {\n",
              "      margin-bottom: 4px;\n",
              "    }\n",
              "\n",
              "    [theme=dark] .colab-df-convert {\n",
              "      background-color: #3B4455;\n",
              "      fill: #D2E3FC;\n",
              "    }\n",
              "\n",
              "    [theme=dark] .colab-df-convert:hover {\n",
              "      background-color: #434B5C;\n",
              "      box-shadow: 0px 1px 3px 1px rgba(0, 0, 0, 0.15);\n",
              "      filter: drop-shadow(0px 1px 2px rgba(0, 0, 0, 0.3));\n",
              "      fill: #FFFFFF;\n",
              "    }\n",
              "  </style>\n",
              "\n",
              "    <script>\n",
              "      const buttonEl =\n",
              "        document.querySelector('#df-1f65301b-4f37-4f97-be9d-6f6f63921303 button.colab-df-convert');\n",
              "      buttonEl.style.display =\n",
              "        google.colab.kernel.accessAllowed ? 'block' : 'none';\n",
              "\n",
              "      async function convertToInteractive(key) {\n",
              "        const element = document.querySelector('#df-1f65301b-4f37-4f97-be9d-6f6f63921303');\n",
              "        const dataTable =\n",
              "          await google.colab.kernel.invokeFunction('convertToInteractive',\n",
              "                                                    [key], {});\n",
              "        if (!dataTable) return;\n",
              "\n",
              "        const docLinkHtml = 'Like what you see? Visit the ' +\n",
              "          '<a target=\"_blank\" href=https://colab.research.google.com/notebooks/data_table.ipynb>data table notebook</a>'\n",
              "          + ' to learn more about interactive tables.';\n",
              "        element.innerHTML = '';\n",
              "        dataTable['output_type'] = 'display_data';\n",
              "        await google.colab.output.renderOutput(dataTable, element);\n",
              "        const docLink = document.createElement('div');\n",
              "        docLink.innerHTML = docLinkHtml;\n",
              "        element.appendChild(docLink);\n",
              "      }\n",
              "    </script>\n",
              "  </div>\n",
              "\n",
              "\n",
              "<div id=\"df-e3175eab-25fc-43e6-b579-853d8d352f71\">\n",
              "  <button class=\"colab-df-quickchart\" onclick=\"quickchart('df-e3175eab-25fc-43e6-b579-853d8d352f71')\"\n",
              "            title=\"Suggest charts\"\n",
              "            style=\"display:none;\">\n",
              "\n",
              "<svg xmlns=\"http://www.w3.org/2000/svg\" height=\"24px\"viewBox=\"0 0 24 24\"\n",
              "     width=\"24px\">\n",
              "    <g>\n",
              "        <path d=\"M19 3H5c-1.1 0-2 .9-2 2v14c0 1.1.9 2 2 2h14c1.1 0 2-.9 2-2V5c0-1.1-.9-2-2-2zM9 17H7v-7h2v7zm4 0h-2V7h2v10zm4 0h-2v-4h2v4z\"/>\n",
              "    </g>\n",
              "</svg>\n",
              "  </button>\n",
              "\n",
              "<style>\n",
              "  .colab-df-quickchart {\n",
              "      --bg-color: #E8F0FE;\n",
              "      --fill-color: #1967D2;\n",
              "      --hover-bg-color: #E2EBFA;\n",
              "      --hover-fill-color: #174EA6;\n",
              "      --disabled-fill-color: #AAA;\n",
              "      --disabled-bg-color: #DDD;\n",
              "  }\n",
              "\n",
              "  [theme=dark] .colab-df-quickchart {\n",
              "      --bg-color: #3B4455;\n",
              "      --fill-color: #D2E3FC;\n",
              "      --hover-bg-color: #434B5C;\n",
              "      --hover-fill-color: #FFFFFF;\n",
              "      --disabled-bg-color: #3B4455;\n",
              "      --disabled-fill-color: #666;\n",
              "  }\n",
              "\n",
              "  .colab-df-quickchart {\n",
              "    background-color: var(--bg-color);\n",
              "    border: none;\n",
              "    border-radius: 50%;\n",
              "    cursor: pointer;\n",
              "    display: none;\n",
              "    fill: var(--fill-color);\n",
              "    height: 32px;\n",
              "    padding: 0;\n",
              "    width: 32px;\n",
              "  }\n",
              "\n",
              "  .colab-df-quickchart:hover {\n",
              "    background-color: var(--hover-bg-color);\n",
              "    box-shadow: 0 1px 2px rgba(60, 64, 67, 0.3), 0 1px 3px 1px rgba(60, 64, 67, 0.15);\n",
              "    fill: var(--button-hover-fill-color);\n",
              "  }\n",
              "\n",
              "  .colab-df-quickchart-complete:disabled,\n",
              "  .colab-df-quickchart-complete:disabled:hover {\n",
              "    background-color: var(--disabled-bg-color);\n",
              "    fill: var(--disabled-fill-color);\n",
              "    box-shadow: none;\n",
              "  }\n",
              "\n",
              "  .colab-df-spinner {\n",
              "    border: 2px solid var(--fill-color);\n",
              "    border-color: transparent;\n",
              "    border-bottom-color: var(--fill-color);\n",
              "    animation:\n",
              "      spin 1s steps(1) infinite;\n",
              "  }\n",
              "\n",
              "  @keyframes spin {\n",
              "    0% {\n",
              "      border-color: transparent;\n",
              "      border-bottom-color: var(--fill-color);\n",
              "      border-left-color: var(--fill-color);\n",
              "    }\n",
              "    20% {\n",
              "      border-color: transparent;\n",
              "      border-left-color: var(--fill-color);\n",
              "      border-top-color: var(--fill-color);\n",
              "    }\n",
              "    30% {\n",
              "      border-color: transparent;\n",
              "      border-left-color: var(--fill-color);\n",
              "      border-top-color: var(--fill-color);\n",
              "      border-right-color: var(--fill-color);\n",
              "    }\n",
              "    40% {\n",
              "      border-color: transparent;\n",
              "      border-right-color: var(--fill-color);\n",
              "      border-top-color: var(--fill-color);\n",
              "    }\n",
              "    60% {\n",
              "      border-color: transparent;\n",
              "      border-right-color: var(--fill-color);\n",
              "    }\n",
              "    80% {\n",
              "      border-color: transparent;\n",
              "      border-right-color: var(--fill-color);\n",
              "      border-bottom-color: var(--fill-color);\n",
              "    }\n",
              "    90% {\n",
              "      border-color: transparent;\n",
              "      border-bottom-color: var(--fill-color);\n",
              "    }\n",
              "  }\n",
              "</style>\n",
              "\n",
              "  <script>\n",
              "    async function quickchart(key) {\n",
              "      const quickchartButtonEl =\n",
              "        document.querySelector('#' + key + ' button');\n",
              "      quickchartButtonEl.disabled = true;  // To prevent multiple clicks.\n",
              "      quickchartButtonEl.classList.add('colab-df-spinner');\n",
              "      try {\n",
              "        const charts = await google.colab.kernel.invokeFunction(\n",
              "            'suggestCharts', [key], {});\n",
              "      } catch (error) {\n",
              "        console.error('Error during call to suggestCharts:', error);\n",
              "      }\n",
              "      quickchartButtonEl.classList.remove('colab-df-spinner');\n",
              "      quickchartButtonEl.classList.add('colab-df-quickchart-complete');\n",
              "    }\n",
              "    (() => {\n",
              "      let quickchartButtonEl =\n",
              "        document.querySelector('#df-e3175eab-25fc-43e6-b579-853d8d352f71 button');\n",
              "      quickchartButtonEl.style.display =\n",
              "        google.colab.kernel.accessAllowed ? 'block' : 'none';\n",
              "    })();\n",
              "  </script>\n",
              "</div>\n",
              "\n",
              "    </div>\n",
              "  </div>\n"
            ],
            "application/vnd.google.colaboratory.intrinsic+json": {
              "type": "dataframe",
              "variable_name": "df"
            }
          },
          "metadata": {},
          "execution_count": 2
        }
      ],
      "source": [
        "import gdown\n",
        "import pandas as pd\n",
        "import numpy as np\n",
        "import matplotlib.pyplot as plt\n",
        "import seaborn as sns\n",
        "\n",
        "# ID File from Google Drive\n",
        "file_id = \"1Pt6WSwXGgwTF93vd5SUZBJS2veI_KYaC\"\n",
        "# URL\n",
        "download_url = f\"https://drive.google.com/uc?id={file_id}\"\n",
        "\n",
        "# Download to local\n",
        "output = \"creditcard.csv\"\n",
        "gdown.download(download_url, output, quiet=False)\n",
        "\n",
        "# Load to pandas\n",
        "df = pd.read_csv(output)\n",
        "print(\"Dataset size:\", df.shape)\n",
        "df.head()\n"
      ]
    },
    {
      "cell_type": "markdown",
      "source": [
        "# 2. EDA"
      ],
      "metadata": {
        "id": "D1dGQWViiUPc"
      }
    },
    {
      "cell_type": "markdown",
      "source": [
        "We will focus on answering:\n",
        "\n",
        "* How severe is the imbalance?\n",
        "* Are there any empty columns?\n",
        "* What is the distribution of values for Amount and Time?\n",
        "* What is the correlation between features and the Class label?"
      ],
      "metadata": {
        "id": "vb-KwwylibjY"
      }
    },
    {
      "cell_type": "code",
      "source": [
        "# Dataset Size Display\n",
        "print(f\"Total Rows & Columns: {df.shape}\")\n",
        "\n",
        "# Missing Value checking\n",
        "missing = df.isnull().sum().sum()\n",
        "print(f\"Total missing value: {missing}\")"
      ],
      "metadata": {
        "colab": {
          "base_uri": "https://localhost:8080/"
        },
        "id": "M9k_nVqTiWZh",
        "outputId": "1d9317ed-17ad-425d-b9bf-57416d9f83e9"
      },
      "execution_count": 4,
      "outputs": [
        {
          "output_type": "stream",
          "name": "stdout",
          "text": [
            "Total Rows & Columns: (284807, 31)\n",
            "Total missing value: 0\n"
          ]
        }
      ]
    },
    {
      "cell_type": "code",
      "source": [
        "# Class target distribution\n",
        "plt.figure(figsize=(6,4))\n",
        "sns.countplot(data=df, x='Class')\n",
        "plt.title('Class Distribution: 0 (Normal) vs 1 (Fraud)')\n",
        "plt.xlabel('Class')\n",
        "plt.ylabel('Amount Transaction')\n",
        "plt.show()"
      ],
      "metadata": {
        "colab": {
          "base_uri": "https://localhost:8080/",
          "height": 410
        },
        "id": "e-VLJujijM1C",
        "outputId": "2dc0c1db-1b3a-4282-92aa-4f2a0b78cf77"
      },
      "execution_count": 5,
      "outputs": [
        {
          "output_type": "display_data",
          "data": {
            "text/plain": [
              "<Figure size 600x400 with 1 Axes>"
            ],
            "image/png": "[encoded data removed]"
          },
          "metadata": {}
        }
      ]
    },
    {
      "cell_type": "code",
      "source": [
        "# Fraud Ratio\n",
        "fraud_ratio = df['Class'].mean() * 100\n",
        "print(f\"Fraud Transaction amount: {fraud_ratio:.4f}%\")"
      ],
      "metadata": {
        "colab": {
          "base_uri": "https://localhost:8080/"
        },
        "id": "UwlzsR9ujPFI",
        "outputId": "cfad7ecb-f06f-4ffa-c7ff-b3ece5eee87f"
      },
      "execution_count": 6,
      "outputs": [
        {
          "output_type": "stream",
          "name": "stdout",
          "text": [
            "Fraud Transaction amount: 0.1727%\n"
          ]
        }
      ]
    },
    {
      "cell_type": "code",
      "source": [
        "# Distribusi Amount\n",
        "plt.figure(figsize=(6,4))\n",
        "sns.histplot(df['Amount'], bins=100, kde=True)\n",
        "plt.title('Amount Distribution')\n",
        "plt.xlabel('Amount')\n",
        "plt.ylabel('Frequency')\n",
        "plt.xlim(0, 5000)  # So that outliers don't skew the results\n",
        "plt.show()"
      ],
      "metadata": {
        "colab": {
          "base_uri": "https://localhost:8080/",
          "height": 410
        },
        "id": "I4UzFSgGjRDb",
        "outputId": "c08d3c3b-5450-427b-e57a-42816a9521ac"
      },
      "execution_count": 7,
      "outputs": [
        {
          "output_type": "display_data",
          "data": {
            "text/plain": [
              "<Figure size 600x400 with 1 Axes>"
            ],
            "image/png": "[encoded data removed]"
          },
          "metadata": {}
        }
      ]
    },
    {
      "cell_type": "code",
      "source": [
        "# Correlation of Class with other features\n",
        "correlations = df.corr()['Class'].drop('Class').sort_values()\n",
        "plt.figure(figsize=(6, 8))\n",
        "correlations.plot(kind='barh', color='teal')\n",
        "plt.title('Feature Correlation with Class (Fraud)')\n",
        "plt.xlabel('Correlation with Class')\n",
        "plt.grid(True, linestyle='--', alpha=0.5)\n",
        "plt.show()\n"
      ],
      "metadata": {
        "colab": {
          "base_uri": "https://localhost:8080/",
          "height": 718
        },
        "id": "89fyXQ8njTjz",
        "outputId": "c941c337-88f7-4b7d-a429-7d3b1aa0051a"
      },
      "execution_count": 8,
      "outputs": [
        {
          "output_type": "display_data",
          "data": {
            "text/plain": [
              "<Figure size 600x800 with 1 Axes>"
            ],
            "image/png": "[encoded data removed]"
          },
          "metadata": {}
        }
      ]
    },
    {
      "cell_type": "markdown",
      "source": [
        "✅ Why a Correlation Bar Chart is More Suitable\n",
        "We want to know the linear relationship between each feature and the Class label. Because:\n",
        "\n",
        "* All features V1 to V28 are already the standardized results of PCA (Principal Component Analysis).\n",
        "* We want to find out which features are positively or negatively correlated with fraud.\n",
        "* Pearson correlation (via df.corr()) numerically shows that relationship."
      ],
      "metadata": {
        "id": "ImE5X6cpjxh9"
      }
    },
    {
      "cell_type": "markdown",
      "source": [
        "# 3. Preprocessing & Splitting Data"
      ],
      "metadata": {
        "id": "FueH0ph5kRWq"
      }
    },
    {
      "cell_type": "markdown",
      "source": [
        "We will do the following:\n",
        "\n",
        "* Separate features and target (X and y).\n",
        "* Split the data into training and testing sets.\n",
        "* Scale the Amount feature (since other features were scaled from the beginning via PCA)."
      ],
      "metadata": {
        "id": "CmiD1jwUkZoz"
      }
    },
    {
      "cell_type": "code",
      "source": [
        "from sklearn.model_selection import train_test_split\n",
        "from sklearn.preprocessing import StandardScaler\n",
        "\n",
        "# 1. Separate features and target\n",
        "X = df.drop(columns=['Class'])\n",
        "y = df['Class']\n",
        "\n",
        "# 2. Scale the 'Amount' column because other features are already PCA results\n",
        "X_scaled = X.copy()\n",
        "scaler = StandardScaler()\n",
        "X_scaled['Amount'] = scaler.fit_transform(X[['Amount']])\n",
        "\n",
        "# 3. Split the data into train and test\n",
        "X_train, X_test, y_train, y_test = train_test_split(\n",
        "    X_scaled, y, test_size=0.2, random_state=42, stratify=y\n",
        ")\n",
        "\n",
        "# Check data sizes\n",
        "print(f\"X_train shape: {X_train.shape}\")\n",
        "print(f\"X_test shape: {X_test.shape}\")\n",
        "print(f\"Positive class in train: {sum(y_train)}\")\n",
        "print(f\"Positive class in test: {sum(y_test)}\")"
      ],
      "metadata": {
        "colab": {
          "base_uri": "https://localhost:8080/"
        },
        "id": "E1mWKaBzkWGv",
        "outputId": "4c79f933-ea5f-41e9-8cc9-8e79d11b2845"
      },
      "execution_count": 9,
      "outputs": [
        {
          "output_type": "stream",
          "name": "stdout",
          "text": [
            "X_train shape: (227845, 30)\n",
            "X_test shape: (56962, 30)\n",
            "Positive class in train: 394\n",
            "Positive class in test: 98\n"
          ]
        }
      ]
    },
    {
      "cell_type": "markdown",
      "source": [
        "# 4. Baseline Model"
      ],
      "metadata": {
        "id": "gJJDORoTlxKo"
      }
    },
    {
      "cell_type": "code",
      "source": [
        "from sklearn.ensemble import RandomForestClassifier\n",
        "from sklearn.metrics import classification_report, confusion_matrix, roc_auc_score\n",
        "\n",
        "# 1. Initialize the model\n",
        "baseline_model = RandomForestClassifier(random_state=42)\n",
        "\n",
        "# 2. Train the model on the original data (without imbalance adjustment)\n",
        "baseline_model.fit(X_train, y_train)\n",
        "\n",
        "# 3. Predict\n",
        "y_pred = baseline_model.predict(X_test)\n",
        "\n",
        "# 4. Evaluate\n",
        "print(\"📊 Confusion Matrix:\")\n",
        "print(confusion_matrix(y_test, y_pred))\n",
        "\n",
        "print(\"\\n📋 Classification Report:\")\n",
        "print(classification_report(y_test, y_pred, zero_division=0))\n",
        "\n",
        "print(\"\\n🔥 ROC AUC Score:\", roc_auc_score(y_test, baseline_model.predict_proba(X_test)[:, 1]))"
      ],
      "metadata": {
        "colab": {
          "base_uri": "https://localhost:8080/"
        },
        "id": "gPzUTO7el1ED",
        "outputId": "44d61374-27e9-4833-bfbf-a886410b1f4f"
      },
      "execution_count": 10,
      "outputs": [
        {
          "output_type": "stream",
          "name": "stdout",
          "text": [
            "📊 Confusion Matrix:\n",
            "[[56859     5]\n",
            " [   18    80]]\n",
            "\n",
            "📋 Classification Report:\n",
            "              precision    recall  f1-score   support\n",
            "\n",
            "           0       1.00      1.00      1.00     56864\n",
            "           1       0.94      0.82      0.87        98\n",
            "\n",
            "    accuracy                           1.00     56962\n",
            "   macro avg       0.97      0.91      0.94     56962\n",
            "weighted avg       1.00      1.00      1.00     56962\n",
            "\n",
            "\n",
            "🔥 ROC AUC Score: 0.9630272515590367\n"
          ]
        }
      ]
    },
    {
      "cell_type": "markdown",
      "source": [
        "# 5. Imbalanced Data"
      ],
      "metadata": {
        "id": "xh8WZesEruAu"
      }
    },
    {
      "cell_type": "markdown",
      "source": [
        "## SMOTE"
      ],
      "metadata": {
        "id": "a8Zv_Jhnr3_Y"
      }
    },
    {
      "cell_type": "code",
      "source": [
        "from imblearn.over_sampling import SMOTE\n",
        "from sklearn.ensemble import RandomForestClassifier\n",
        "from sklearn.metrics import classification_report, confusion_matrix, roc_auc_score\n",
        "\n",
        "# 1. Apply SMOTE to the training data\n",
        "smote = SMOTE(random_state=42)\n",
        "X_train_smote, y_train_smote = smote.fit_resample(X_train, y_train)\n",
        "\n",
        "# 2. Train the model again\n",
        "model_smote = RandomForestClassifier(random_state=42)\n",
        "model_smote.fit(X_train_smote, y_train_smote)\n",
        "\n",
        "# 3. Predict\n",
        "y_pred_smote = model_smote.predict(X_test)\n",
        "\n",
        "# 4. Evaluate\n",
        "print(\"📊 Confusion Matrix:\")\n",
        "print(confusion_matrix(y_test, y_pred_smote))\n",
        "print(\"\\n📋 Classification Report:\")\n",
        "print(classification_report(y_test, y_pred_smote))\n",
        "print(\"\\n🔥 ROC AUC Score:\", roc_auc_score(y_test, model_smote.predict_proba(X_test)[:, 1]))"
      ],
      "metadata": {
        "colab": {
          "base_uri": "https://localhost:8080/"
        },
        "id": "46Bgpxzfr3Em",
        "outputId": "93ba07a3-3286-4963-b453-7274dcf7d3fa"
      },
      "execution_count": 11,
      "outputs": [
        {
          "output_type": "stream",
          "name": "stdout",
          "text": [
            "📊 Confusion Matrix:\n",
            "[[56847    17]\n",
            " [   17    81]]\n",
            "\n",
            "📋 Classification Report:\n",
            "              precision    recall  f1-score   support\n",
            "\n",
            "           0       1.00      1.00      1.00     56864\n",
            "           1       0.83      0.83      0.83        98\n",
            "\n",
            "    accuracy                           1.00     56962\n",
            "   macro avg       0.91      0.91      0.91     56962\n",
            "weighted avg       1.00      1.00      1.00     56962\n",
            "\n",
            "\n",
            "🔥 ROC AUC Score: 0.9691768150000575\n"
          ]
        }
      ]
    },
    {
      "cell_type": "markdown",
      "source": [
        "## Random Undersampling"
      ],
      "metadata": {
        "id": "gr0qv0r_v6yM"
      }
    },
    {
      "cell_type": "code",
      "source": [
        "from imblearn.under_sampling import RandomUnderSampler\n",
        "\n",
        "# Undersampling\n",
        "rus = RandomUnderSampler(random_state=42)\n",
        "X_res_rus, y_res_rus = rus.fit_resample(X_train, y_train)\n",
        "\n",
        "# Check new distribution\n",
        "print(\"Distribution after Undersampling:\", y_res_rus.value_counts())\n",
        "\n",
        "# Train the same model (Random Forest)\n",
        "model_rus = RandomForestClassifier(random_state=42)\n",
        "model_rus.fit(X_res_rus, y_res_rus)\n",
        "\n",
        "# Predict on the test set\n",
        "y_pred_rus = model_rus.predict(X_test)\n",
        "y_prob_rus = model_rus.predict_proba(X_test)[:, 1]\n",
        "\n",
        "# Evaluate\n",
        "print(\"📊 Confusion Matrix:\")\n",
        "print(confusion_matrix(y_test, y_pred_rus))\n",
        "\n",
        "print(\"\\n📋 Classification Report:\")\n",
        "print(classification_report(y_test, y_pred_rus))\n",
        "\n",
        "roc_auc_rus = roc_auc_score(y_test, y_prob_rus)\n",
        "print(f\"\\n🔥 ROC AUC Score: {roc_auc_rus}\")"
      ],
      "metadata": {
        "colab": {
          "base_uri": "https://localhost:8080/"
        },
        "id": "n8tWtIjWv-gG",
        "outputId": "153043da-bb68-45a1-e684-654b9acc74f2"
      },
      "execution_count": 13,
      "outputs": [
        {
          "output_type": "stream",
          "name": "stdout",
          "text": [
            "Distribution after Undersampling: Class\n",
            "0    394\n",
            "1    394\n",
            "Name: count, dtype: int64\n",
            "📊 Confusion Matrix:\n",
            "[[54827  2037]\n",
            " [    8    90]]\n",
            "\n",
            "📋 Classification Report:\n",
            "              precision    recall  f1-score   support\n",
            "\n",
            "           0       1.00      0.96      0.98     56864\n",
            "           1       0.04      0.92      0.08        98\n",
            "\n",
            "    accuracy                           0.96     56962\n",
            "   macro avg       0.52      0.94      0.53     56962\n",
            "weighted avg       1.00      0.96      0.98     56962\n",
            "\n",
            "\n",
            "🔥 ROC AUC Score: 0.9776977722715422\n"
          ]
        }
      ]
    },
    {
      "cell_type": "markdown",
      "source": [
        "## class weighting (Random Forest)"
      ],
      "metadata": {
        "id": "q05e8pZWwhxV"
      }
    },
    {
      "cell_type": "code",
      "source": [
        "from sklearn.ensemble import RandomForestClassifier\n",
        "from sklearn.metrics import classification_report, confusion_matrix, roc_auc_score\n",
        "\n",
        "# Membuat model dengan penyesuaian class_weight\n",
        "rf_weighted = RandomForestClassifier(class_weight='balanced', random_state=42)\n",
        "\n",
        "# Latih model\n",
        "rf_weighted.fit(X_train, y_train)\n",
        "\n",
        "# Prediksi\n",
        "y_pred_weighted = rf_weighted.predict(X_test)\n",
        "\n",
        "# Evaluasi\n",
        "print(\"📊 Confusion Matrix:\")\n",
        "print(confusion_matrix(y_test, y_pred_weighted))\n",
        "print(\"\\n📋 Classification Report:\")\n",
        "print(classification_report(y_test, y_pred_weighted))\n",
        "print(\"\\n🔥 ROC AUC Score:\", roc_auc_score(y_test, y_pred_weighted))\n"
      ],
      "metadata": {
        "colab": {
          "base_uri": "https://localhost:8080/"
        },
        "id": "i-LSlpiYwjKQ",
        "outputId": "4e9e85e0-4f91-4bb3-a045-dc302c09b30e"
      },
      "execution_count": 14,
      "outputs": [
        {
          "output_type": "stream",
          "name": "stdout",
          "text": [
            "📊 Confusion Matrix:\n",
            "[[56861     3]\n",
            " [   25    73]]\n",
            "\n",
            "📋 Classification Report:\n",
            "              precision    recall  f1-score   support\n",
            "\n",
            "           0       1.00      1.00      1.00     56864\n",
            "           1       0.96      0.74      0.84        98\n",
            "\n",
            "    accuracy                           1.00     56962\n",
            "   macro avg       0.98      0.87      0.92     56962\n",
            "weighted avg       1.00      1.00      1.00     56962\n",
            "\n",
            "\n",
            "🔥 ROC AUC Score: 0.8724226008636431\n"
          ]
        }
      ]
    },
    {
      "cell_type": "markdown",
      "source": [
        "## Summary on handling imbalance data\n",
        "\n",
        "based on the result, SMOTE Metode is the best result regarding baseline model"
      ],
      "metadata": {
        "id": "tV2W1_xk0lA3"
      }
    },
    {
      "cell_type": "markdown",
      "source": [
        "# 6. Advance modelling"
      ],
      "metadata": {
        "id": "4fRkmp160Zj7"
      }
    },
    {
      "cell_type": "markdown",
      "source": [
        "## Random Forest (with SMOTE data)"
      ],
      "metadata": {
        "id": "qizTxsON0fU4"
      }
    },
    {
      "cell_type": "code",
      "source": [
        "from sklearn.ensemble import RandomForestClassifier\n",
        "from sklearn.metrics import classification_report, confusion_matrix, roc_auc_score\n",
        "\n",
        "# Train Random Forest\n",
        "rf = RandomForestClassifier(random_state=42)\n",
        "rf.fit(X_train_smote, y_train_smote)\n",
        "\n",
        "# Predict\n",
        "y_pred_rf = rf.predict(X_test)\n",
        "\n",
        "# Evaluate\n",
        "print(\"📊 Confusion Matrix:\")\n",
        "print(confusion_matrix(y_test, y_pred_rf))\n",
        "\n",
        "print(\"\\n📋 Classification Report:\")\n",
        "print(classification_report(y_test, y_pred_rf))\n",
        "\n",
        "print(\"🔥 ROC AUC Score:\", roc_auc_score(y_test, rf.predict_proba(X_test)[:, 1]))"
      ],
      "metadata": {
        "colab": {
          "base_uri": "https://localhost:8080/"
        },
        "id": "MIVXMVpD0fCI",
        "outputId": "b3d7b187-e0c4-4834-fc77-f15bd342b1b6"
      },
      "execution_count": 15,
      "outputs": [
        {
          "output_type": "stream",
          "name": "stdout",
          "text": [
            "📊 Confusion Matrix:\n",
            "[[56847    17]\n",
            " [   17    81]]\n",
            "\n",
            "📋 Classification Report:\n",
            "              precision    recall  f1-score   support\n",
            "\n",
            "           0       1.00      1.00      1.00     56864\n",
            "           1       0.83      0.83      0.83        98\n",
            "\n",
            "    accuracy                           1.00     56962\n",
            "   macro avg       0.91      0.91      0.91     56962\n",
            "weighted avg       1.00      1.00      1.00     56962\n",
            "\n",
            "🔥 ROC AUC Score: 0.9691768150000575\n"
          ]
        }
      ]
    },
    {
      "cell_type": "markdown",
      "source": [
        "## XGBoost (with SMOTE data)"
      ],
      "metadata": {
        "id": "vX574prs3_gM"
      }
    },
    {
      "cell_type": "code",
      "source": [
        "from xgboost import XGBClassifier\n",
        "\n",
        "xgb_model = XGBClassifier(eval_metric='logloss', random_state=42)\n",
        "xgb_model.fit(X_train_smote, y_train_smote)\n",
        "y_pred_xgb = xgb_model.predict(X_test)\n",
        "\n",
        "# Evaluate\n",
        "print(\"📊 Confusion Matrix:\")\n",
        "print(confusion_matrix(y_test, y_pred_xgb))\n",
        "\n",
        "print(\"\\n📋 Classification Report:\")\n",
        "print(classification_report(y_test, y_pred_xgb))\n",
        "\n",
        "print(\"🔥 ROC AUC Score:\", roc_auc_score(y_test, rf.predict_proba(X_test)[:, 1]))"
      ],
      "metadata": {
        "colab": {
          "base_uri": "https://localhost:8080/"
        },
        "id": "aMXvkbbJ4Dqr",
        "outputId": "b4ddd4b9-065c-4c0d-bb74-c679760795c5"
      },
      "execution_count": 20,
      "outputs": [
        {
          "output_type": "stream",
          "name": "stdout",
          "text": [
            "📊 Confusion Matrix:\n",
            "[[56839    25]\n",
            " [   13    85]]\n",
            "\n",
            "📋 Classification Report:\n",
            "              precision    recall  f1-score   support\n",
            "\n",
            "           0       1.00      1.00      1.00     56864\n",
            "           1       0.77      0.87      0.82        98\n",
            "\n",
            "    accuracy                           1.00     56962\n",
            "   macro avg       0.89      0.93      0.91     56962\n",
            "weighted avg       1.00      1.00      1.00     56962\n",
            "\n",
            "🔥 ROC AUC Score: 0.9691768150000575\n"
          ]
        }
      ]
    },
    {
      "cell_type": "markdown",
      "source": [
        "## LightGBM Evaluation (with SMOTE data)"
      ],
      "metadata": {
        "id": "Gq5Nw8EE5F2i"
      }
    },
    {
      "cell_type": "code",
      "source": [
        "from lightgbm import LGBMClassifier\n",
        "\n",
        "# Model LightGBM\n",
        "lgbm_model = LGBMClassifier(random_state=42)\n",
        "lgbm_model.fit(X_train_smote, y_train_smote)\n",
        "y_pred_lgbm = lgbm_model.predict(X_test)\n",
        "\n",
        "# Evaluate\n",
        "print(\"📊 Confusion Matrix:\")\n",
        "print(confusion_matrix(y_test, y_pred_lgbm))\n",
        "\n",
        "print(\"\\n📋 Classification Report:\")\n",
        "print(classification_report(y_test, y_pred_lgbm))\n",
        "\n",
        "print(\"🔥 ROC AUC Score:\", roc_auc_score(y_test, rf.predict_proba(X_test)[:, 1]))"
      ],
      "metadata": {
        "colab": {
          "base_uri": "https://localhost:8080/"
        },
        "id": "8DNagepY4Mx5",
        "outputId": "af93fd40-e7e2-4c9c-b0bb-078c8f24dfa4"
      },
      "execution_count": 21,
      "outputs": [
        {
          "output_type": "stream",
          "name": "stdout",
          "text": [
            "[LightGBM] [Info] Number of positive: 227451, number of negative: 227451\n",
            "[LightGBM] [Info] Auto-choosing col-wise multi-threading, the overhead of testing was 0.159993 seconds.\n",
            "You can set `force_col_wise=true` to remove the overhead.\n",
            "[LightGBM] [Info] Total Bins 7650\n",
            "[LightGBM] [Info] Number of data points in the train set: 454902, number of used features: 30\n",
            "[LightGBM] [Info] [binary:BoostFromScore]: pavg=0.500000 -> initscore=0.000000\n",
            "📊 Confusion Matrix:\n",
            "[[56809    55]\n",
            " [   14    84]]\n",
            "\n",
            "📋 Classification Report:\n",
            "              precision    recall  f1-score   support\n",
            "\n",
            "           0       1.00      1.00      1.00     56864\n",
            "           1       0.60      0.86      0.71        98\n",
            "\n",
            "    accuracy                           1.00     56962\n",
            "   macro avg       0.80      0.93      0.85     56962\n",
            "weighted avg       1.00      1.00      1.00     56962\n",
            "\n",
            "🔥 ROC AUC Score: 0.9691768150000575\n"
          ]
        }
      ]
    },
    {
      "cell_type": "markdown",
      "source": [
        "## Interpretation:\n",
        "🟢 Random Forest\n",
        "Catches quite a few thieves (recall 83%)\n",
        "But also rarely falsely accuses innocent people (high precision)\n",
        "Overall score is very stable.\n",
        "✅ Suitable if you want the most balanced model.\n",
        "\n",
        "🔵 XGBoost\n",
        "More aggressive at catching thieves (recall 87%)\n",
        "But tends to make slightly more false accusations (precision drops to 77%).\n",
        "✅ Suitable if you want to prioritize fraud detection, even with a slightly higher number of false alarms.\n",
        "\n",
        "🟡 LightGBM\n",
        "Very aggressive at catching thieves (recall 86%)\n",
        "But very often falsely accuses innocent people of being thieves (precision only 60%).\n",
        "⚠️ Suitable if you really want to avoid missing any fraud, and false alarms are not a big problem (e.g., can be manually checked by an investigation team)."
      ],
      "metadata": {
        "id": "iGGbe1OC6NZd"
      }
    },
    {
      "cell_type": "markdown",
      "source": [
        "# 7. Hyperparameter Tuning"
      ],
      "metadata": {
        "id": "pT5vvu0Z6Zjs"
      }
    },
    {
      "cell_type": "markdown",
      "source": [
        "## optuna with random forest"
      ],
      "metadata": {
        "id": "Y4AWrnWt6lTJ"
      }
    },
    {
      "cell_type": "code",
      "source": [
        "import optuna\n",
        "from sklearn.ensemble import RandomForestClassifier\n",
        "from sklearn.model_selection import cross_val_score\n",
        "from sklearn.metrics import roc_auc_score\n",
        "from sklearn.model_selection import StratifiedKFold\n",
        "\n",
        "# Use SMOTE data because it gave the most stable results\n",
        "X_train_tune = X_train_smote\n",
        "y_train_tune = y_train_smote\n",
        "\n",
        "def objective(trial):\n",
        "    # Automatically tried by Optuna\n",
        "    params = {\n",
        "        'n_estimators': trial.suggest_int('n_estimators', 50, 300),\n",
        "        'max_depth': trial.suggest_int('max_depth', 4, 20),\n",
        "        'min_samples_split': trial.suggest_int('min_samples_split', 2, 20),\n",
        "        'min_samples_leaf': trial.suggest_int('min_samples_leaf', 1, 20),\n",
        "        'max_features': trial.suggest_categorical('max_features', ['sqrt', 'log2']),\n",
        "        'bootstrap': trial.suggest_categorical('bootstrap', [True, False])\n",
        "    }\n",
        "\n",
        "    model = RandomForestClassifier(**params, random_state=42)\n",
        "    cv = StratifiedKFold(n_splits=3, shuffle=True, random_state=42)\n",
        "\n",
        "    # We use ROC AUC to evaluate each combination\n",
        "    score = cross_val_score(model, X_train_tune, y_train_tune, cv=cv, scoring='roc_auc', n_jobs=-1)\n",
        "    return score.mean()\n",
        "\n",
        "# Run tuning\n",
        "study = optuna.create_study(direction=\"maximize\")\n",
        "study.optimize(objective, n_trials=30, timeout=600)  # For example, maximum 30 trials or 10 minutes"
      ],
      "metadata": {
        "colab": {
          "base_uri": "https://localhost:8080/"
        },
        "id": "y0cEquI26dyB",
        "outputId": "b32c08d6-3127-4381-cf49-a2266026b741"
      },
      "execution_count": 26,
      "outputs": [
        {
          "output_type": "stream",
          "name": "stderr",
          "text": [
            "[I 2025-04-21 16:08:04,117] A new study created in memory with name: no-name-abce97e6-4084-4fed-9e23-31764b5c87ce\n",
            "[I 2025-04-21 16:20:33,053] Trial 0 finished with value: 0.9964393590060744 and parameters: {'n_estimators': 198, 'max_depth': 5, 'min_samples_split': 11, 'min_samples_leaf': 20, 'max_features': 'sqrt', 'bootstrap': True}. Best is trial 0 with value: 0.9964393590060744.\n"
          ]
        }
      ]
    },
    {
      "cell_type": "code",
      "source": [
        "print(\"🔥 Best ROC-AUC:\", study.best_value)\n",
        "print(\"✅ Best Params:\", study.best_params)\n",
        "\n",
        "# Save the best model\n",
        "best_rf = RandomForestClassifier(**study.best_params, random_state=42)\n",
        "best_rf.fit(X_train_tune, y_train_tune)\n",
        "\n",
        "# Evaluate on the test data\n",
        "y_pred_best_rf = best_rf.predict(X_test)\n",
        "print(\"📊 Confusion Matrix:\")\n",
        "print(confusion_matrix(y_test, y_pred_best_rf))\n",
        "print(\"\\n📋 Classification Report:\")\n",
        "print(classification_report(y_test, y_pred_best_rf))\n",
        "print(\"🔥 ROC AUC Score:\", roc_auc_score(y_test, best_rf.predict_proba(X_test)[:, 1]))"
      ],
      "metadata": {
        "colab": {
          "base_uri": "https://localhost:8080/"
        },
        "id": "-R2L5BDuKHqR",
        "outputId": "31ba1e59-f069-4ed6-cd46-a9f9b190d137"
      },
      "execution_count": 27,
      "outputs": [
        {
          "output_type": "stream",
          "name": "stdout",
          "text": [
            "🔥 Best ROC-AUC: 0.9964393590060744\n",
            "✅ Best Params: {'n_estimators': 198, 'max_depth': 5, 'min_samples_split': 11, 'min_samples_leaf': 20, 'max_features': 'sqrt', 'bootstrap': True}\n",
            "📊 Confusion Matrix:\n",
            "[[56530   334]\n",
            " [   11    87]]\n",
            "\n",
            "📋 Classification Report:\n",
            "              precision    recall  f1-score   support\n",
            "\n",
            "           0       1.00      0.99      1.00     56864\n",
            "           1       0.21      0.89      0.34        98\n",
            "\n",
            "    accuracy                           0.99     56962\n",
            "   macro avg       0.60      0.94      0.67     56962\n",
            "weighted avg       1.00      0.99      1.00     56962\n",
            "\n",
            "🔥 ROC AUC Score: 0.975548175094461\n"
          ]
        }
      ]
    }
  ]
}